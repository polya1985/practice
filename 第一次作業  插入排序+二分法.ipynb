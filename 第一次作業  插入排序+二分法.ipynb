{
 "cells": [
  {
   "cell_type": "code",
   "execution_count": 1,
   "metadata": {},
   "outputs": [
    {
     "name": "stdout",
     "output_type": "stream",
     "text": [
      "[0, 3, 4, 6, 7, 19, 50]\n"
     ]
    }
   ],
   "source": [
    "K=[3,50,0,19,4,7,6]\n",
    "n=len(K)  \n",
    "position=0\n",
    "for i in range(1,n):\n",
    "    a=K[i]\n",
    "    high=i-1    \n",
    "    low=0\n",
    "    if K[i]>K[high]:\n",
    "        position=i\n",
    "    elif K[i]<K[low]:\n",
    "        position=0\n",
    "    else:\n",
    "        while True:\n",
    "            mid=int((high+low)/2)  \n",
    "            if low==mid:\n",
    "                position=mid+1\n",
    "                break\n",
    "            elif K[i]>K[mid]:\n",
    "                low=mid       \n",
    "            else:\n",
    "                high=mid\n",
    "    for j in range(i,position,-1):\n",
    "        K[j] = K[j-1]\n",
    "        K[j-1] = a\n",
    "print(K) "
   ]
  },
  {
   "cell_type": "code",
   "execution_count": null,
   "metadata": {},
   "outputs": [],
   "source": []
  }
 ],
 "metadata": {
  "kernelspec": {
   "display_name": "Python 3",
   "language": "python",
   "name": "python3"
  },
  "language_info": {
   "codemirror_mode": {
    "name": "ipython",
    "version": 3
   },
   "file_extension": ".py",
   "mimetype": "text/x-python",
   "name": "python",
   "nbconvert_exporter": "python",
   "pygments_lexer": "ipython3",
   "version": "3.7.3"
  }
 },
 "nbformat": 4,
 "nbformat_minor": 2
}
