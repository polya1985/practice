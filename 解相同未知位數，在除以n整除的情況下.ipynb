{
 "cells": [
  {
   "cell_type": "markdown",
   "metadata": {},
   "source": [
    "### 在FB數學解題社團的一道問題：\n",
    "\n",
    "#### 有一五位數5b9b7是13的倍數，則b=?\n",
    "\n",
    "#### 一位網友的作法如下：\n",
    "![圖](123.png)"
   ]
  },
  {
   "cell_type": "markdown",
   "metadata": {},
   "source": [
    "## 解相同未知位數，在除以n整除的情況下"
   ]
  },
  {
   "cell_type": "code",
   "execution_count": 3,
   "metadata": {},
   "outputs": [
    {
     "name": "stdout",
     "output_type": "stream",
     "text": [
      "輸入除數13\n",
      "輸入題目5b9b7\n",
      "b=3\n"
     ]
    }
   ],
   "source": [
    "N=int(input(\"輸入除數\"))\n",
    "a=input(\"輸入題目\")\n",
    "A=[]\n",
    "n=len(a)\n",
    "emodN=[]\n",
    "T=[]\n",
    "e=0\n",
    "f=0\n",
    "for i in range(n-1,-1,-1):\n",
    "    s=(10**i)%N\n",
    "    emodN.append(s)\n",
    "for i in range(len(a)):\n",
    "    if a[i].isdigit():\n",
    "         e=e+int(a[i])*emodN[i]\n",
    "    else:\n",
    "        uno=a[i]\n",
    "        f=f+emodN[i]\n",
    "che=1\n",
    "for i in range(10):\n",
    "    if (e+f*i)%N==0:\n",
    "        che=0\n",
    "        print(f\"{uno}={i}\")\n",
    "if che:\n",
    "    print('無解')\n",
    "    "
   ]
  },
  {
   "cell_type": "code",
   "execution_count": null,
   "metadata": {},
   "outputs": [],
   "source": []
  }
 ],
 "metadata": {
  "kernelspec": {
   "display_name": "Python 3",
   "language": "python",
   "name": "python3"
  },
  "language_info": {
   "codemirror_mode": {
    "name": "ipython",
    "version": 3
   },
   "file_extension": ".py",
   "mimetype": "text/x-python",
   "name": "python",
   "nbconvert_exporter": "python",
   "pygments_lexer": "ipython3",
   "version": "3.7.3"
  }
 },
 "nbformat": 4,
 "nbformat_minor": 2
}
