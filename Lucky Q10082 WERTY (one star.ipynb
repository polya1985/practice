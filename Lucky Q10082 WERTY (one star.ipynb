{
 "cells": [
  {
   "cell_type": "markdown",
   "metadata": {},
   "source": [
    "# &emsp;&emsp;&emsp;&emsp;&emsp;&emsp;&emsp;&emsp;Q10082: WERTYU\n",
    "![鍵盤](p10082.png)\n",
    "\n",
    "&emsp;&emsp;打字時一個常見的錯誤就是沒有把手放在正確位置，而是偏右邊一個位置。所以會發生Q被打成W，J被打成K等等的情況。你的任務就是要把打錯的字修正回來。\n",
    "\n",
    "### Input\n",
    "\n",
    "&emsp;&emsp;輸入包含許多列，每列可能包含有數字，空白字元，大寫英文字母（Q、A、Z除外），標點符號（`除外）。\n",
    "\n",
    "### Output\n",
    "\n",
    "&emsp;&emsp;對每一列中的每個字元，請輸出在鍵盤（如上圖）上其左邊一個位置的字元。但是輸入中的空白字元，輸出時亦請輸出空白字元。\n",
    "\n",
    "#### Sample input\n",
    "\n",
    "O S, GOMR YPFSU/<br>\n",
    "URD. ,U [JPMR MI,NRT OD 8346333<br>\n",
    "\n",
    "#### Sample Output\n",
    "\n",
    "I AM FINE TODAY.<br>\n",
    "YES, MY PHONE NUMBER IS 7235222<br>\n",
    "\n"
   ]
  },
  {
   "cell_type": "code",
   "execution_count": 3,
   "metadata": {
    "scrolled": true
   },
   "outputs": [
    {
     "name": "stdout",
     "output_type": "stream",
     "text": [
      "1\n",
      "URD. ,U [JPMR MI,NRT OD 8346333\n",
      "YES, MY PHONE NUMBER IS 7235222\n"
     ]
    }
   ],
   "source": [
    "\n",
    "st1=\"1 2 3 4 5 6 7 8 9 0 -\".split()\n",
    "st2=\"Q W E R T Y U I O P [ \".split()\n",
    "st3=\"A S D F G H J K L ;\".split()\n",
    "st4=\"Z X C V B N M , . /\".split()\n",
    "st=st1+st2+st3+st4    #一個list\n",
    "n=int(input(\"\"))      #輸入幾行字元\n",
    "\n",
    "def f(x):\n",
    "    global st\n",
    "    str=(\"\").join(st)\n",
    "    a=str.find(x)\n",
    "    if a>=0:\n",
    "        b=st[(a-1)]\n",
    "    else:\n",
    "        b=' '\n",
    "    return b\n",
    "\n",
    "\n",
    "for j in range(n):\n",
    "    line=list(input(''))\n",
    "    Lis=list(map(f,line))\n",
    "    \n",
    "print((\"\").join(Lis))\n",
    "\n"
   ]
  },
  {
   "cell_type": "code",
   "execution_count": null,
   "metadata": {},
   "outputs": [],
   "source": []
  }
 ],
 "metadata": {
  "kernelspec": {
   "display_name": "Python 3",
   "language": "python",
   "name": "python3"
  },
  "language_info": {
   "codemirror_mode": {
    "name": "ipython",
    "version": 3
   },
   "file_extension": ".py",
   "mimetype": "text/x-python",
   "name": "python",
   "nbconvert_exporter": "python",
   "pygments_lexer": "ipython3",
   "version": "3.7.3"
  }
 },
 "nbformat": 4,
 "nbformat_minor": 2
}
