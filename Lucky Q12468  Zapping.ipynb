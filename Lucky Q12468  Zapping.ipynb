{
 "cells": [
  {
   "cell_type": "markdown",
   "metadata": {},
   "source": [
    "# &emsp;&emsp;&emsp;&emsp;&emsp;&emsp;Q12468 - Zapping\n",
    "我是個超級電視迷，但是我不喜歡固定看一個頻道，我經常在不同頻道間轉來轉去。\n",
    "\n",
    "我的狗咬壞了我的搖控器，現在數字鍵都不能用了，只剩兩個按鈕可以換頻道，一個往上切一個頻道 (△ 按鈕)，一個往下切一個頻道 (▽ 按鈕)。這樣真的很煩，因為如果我要從頻道 3 換到頻道 9 我得按 6 次 △ 按鈕。 \n",
    "\n",
    "我的電視有 100 個頻道，號碼為 0 到 99。它們是循環的，也就是從 99 台再按一下 △ 就會回到第 0 台。同理，從第 0 台按一下 ▽ 就會回到 99 台。 \n",
    "\n",
    "幫我寫個程式，讓我輸入現在正在看的頻道和我要切過去的頻道，它便告訴我最少需要按幾次按鈕。\n",
    "\n",
    "### Input\n",
    "\n",
    "輸入含有多筆測資 (最多 200 筆)。<br>\n",
    "\n",
    "每筆測資含有兩個整數 a 與 b 於一行。a 是我現在看的頻道，而 b 則是我要切過去的頻道 (0 <= a, b <= 99)。\n",
    "\n",
    "最後一行有兩個 -1，代表輸入結束。 \n",
    "\n",
    "### Output\n",
    "\n",
    "對於每筆測資，輸出一個整數於一行 — 也就是我最少要按幾次按鈕才能切到新頻道。(記住，我只有 △ 和 ▽ 兩個按鈕可用)。\n",
    "\n",
    "#### Sample Input\t\n",
    "3 9<br>\n",
    "0 99<br>\n",
    "12 27<br>\n",
    "-1 -1\n",
    "\n",
    "#### Sample Outpu\n",
    "6<br>\n",
    "1<br>\n",
    "15\n"
   ]
  },
  {
   "cell_type": "code",
   "execution_count": 6,
   "metadata": {},
   "outputs": [],
   "source": [
    "def g(x):\n",
    "    a=x[1]-x[0]\n",
    "    b=x[0]-x[1]+100\n",
    "    return min([a,b])\n"
   ]
  },
  {
   "cell_type": "code",
   "execution_count": 8,
   "metadata": {},
   "outputs": [
    {
     "name": "stdout",
     "output_type": "stream",
     "text": [
      "4\n",
      "3 9\n",
      "0 99\n",
      "12 27\n",
      "-1 -1\n",
      "遙控要按  6  下\n",
      "遙控要按  1  下\n",
      "遙控要按 15  下\n"
     ]
    }
   ],
   "source": [
    "n=int(input())\n",
    "A_list=[]\n",
    "for i in range(n):\n",
    "    A_list.append(list(map(int,input().split())))\n",
    "for i in range(n):\n",
    "    if A_list[i][0]<0:\n",
    "        break\n",
    "    else:\n",
    "        print(f\"遙控要按{g(A_list[i]):^5}下\")"
   ]
  },
  {
   "cell_type": "code",
   "execution_count": null,
   "metadata": {},
   "outputs": [],
   "source": []
  }
 ],
 "metadata": {
  "kernelspec": {
   "display_name": "Python 3",
   "language": "python",
   "name": "python3"
  },
  "language_info": {
   "codemirror_mode": {
    "name": "ipython",
    "version": 3
   },
   "file_extension": ".py",
   "mimetype": "text/x-python",
   "name": "python",
   "nbconvert_exporter": "python",
   "pygments_lexer": "ipython3",
   "version": "3.7.3"
  }
 },
 "nbformat": 4,
 "nbformat_minor": 2
}
