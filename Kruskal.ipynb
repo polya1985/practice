{
 "cells": [
  {
   "cell_type": "code",
   "execution_count": 30,
   "metadata": {},
   "outputs": [
    {
     "name": "stdout",
     "output_type": "stream",
     "text": [
      "7\n",
      "9\n",
      "5 0 10\n",
      "5 4 25\n",
      "1 6 14\n",
      "0 1 28\n",
      "6 4 24\n",
      "1 2 16\n",
      "6 3 18\n",
      "2 3 12\n",
      "4 3 22\n",
      "[[5, 0, 10], [2, 3, 12], [1, 6, 14], [1, 2, 16], [4, 3, 22], [5, 4, 25]]\n"
     ]
    }
   ],
   "source": [
    "n=int(input())\n",
    "eg=int(input())\n",
    "graph1=[]\n",
    "for i in range(eg):\n",
    "    graph1.append(list(map(int,input().split()))) \n",
    "graph1.sort(key=lambda s:s[2])       \n",
    "parent=[-1]*n\n",
    "def root(x):\n",
    "    while True:\n",
    "        if parent[x]>=0:\n",
    "            x=parent[x]\n",
    "        else:\n",
    "            return x\n",
    "T=[]\n",
    "i=0\n",
    "while len(T)<(n-1):\n",
    "    c,d=graph1[i][:2]\n",
    "    if root(c)!=root(d) :\n",
    "        if c==root(c) or d==root(d):\n",
    "            parent[c]=d\n",
    "            T.append(graph1[i])\n",
    "        else:\n",
    "            parent[root(c)]=root(d)\n",
    "            T.append(graph1[i])\n",
    "    i=i+1\n",
    "print(T)\n"
   ]
  },
  {
   "cell_type": "code",
   "execution_count": 31,
   "metadata": {},
   "outputs": [
    {
     "name": "stdout",
     "output_type": "stream",
     "text": [
      "6\n",
      "10\n",
      "1 4 30\n",
      "1 2 10\n",
      "1 5 45\n",
      "2 6 25\n",
      "2 5 40\n",
      "2 3 50\n",
      "3 5 35\n",
      "3 6 15\n",
      "4 6 20\n",
      "5 6 55\n",
      "[[1, 2, 10], [3, 6, 15], [4, 6, 20], [2, 6, 25], [3, 5, 35]]\n"
     ]
    }
   ],
   "source": [
    "n=int(input())\n",
    "eg=int(input())\n",
    "graph2=[]\n",
    "for i in range(eg):\n",
    "    graph2.append(list(map(int,input().split())))\n",
    "graph2.sort(key=lambda s:s[2])       \n",
    "parent=[-1]*(n+1)   # index 0 沒有使用\n",
    "def root(x):\n",
    "    while True:\n",
    "        if parent[x]>=0:\n",
    "            x=parent[x]\n",
    "        else:\n",
    "            return x\n",
    "T=[]\n",
    "i=0\n",
    "while len(T)<(n-1):\n",
    "    c,d=graph2[i][:2]\n",
    "    if root(c)!=root(d) :\n",
    "        if c==root(c) or d==root(d):\n",
    "            parent[c]=d\n",
    "            T.append(graph2[i])\n",
    "        else:\n",
    "            parent[root(c)]=root(d)\n",
    "            T.append(graph2[i])\n",
    "    i=i+1\n",
    "print(T)\n"
   ]
  },
  {
   "cell_type": "code",
   "execution_count": null,
   "metadata": {},
   "outputs": [],
   "source": []
  }
 ],
 "metadata": {
  "kernelspec": {
   "display_name": "Python 3",
   "language": "python",
   "name": "python3"
  },
  "language_info": {
   "codemirror_mode": {
    "name": "ipython",
    "version": 3
   },
   "file_extension": ".py",
   "mimetype": "text/x-python",
   "name": "python",
   "nbconvert_exporter": "python",
   "pygments_lexer": "ipython3",
   "version": "3.7.3"
  }
 },
 "nbformat": 4,
 "nbformat_minor": 2
}
