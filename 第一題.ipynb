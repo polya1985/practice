{
 "cells": [
  {
   "cell_type": "code",
   "execution_count": 4,
   "metadata": {},
   "outputs": [
    {
     "name": "stdout",
     "output_type": "stream",
     "text": [
      "4 5 1 9 1 10 2 3 8 9\n",
      "4 5 1 4 1 1 2 3 8 9 "
     ]
    }
   ],
   "source": [
    "L=list(map(int,input().split()))\n",
    "n=len(L)\n",
    "def mid(L):\n",
    "    L.sort()\n",
    "    L.remove(max(L))\n",
    "    L.remove(min(L))\n",
    "    return L[0]\n",
    "\n",
    "for i in range(3,n):\n",
    "    p=abs(L[i]-L[i-1])\n",
    "    if p>5:\n",
    "        LL=[L[i-3],L[i-2],L[i-1]]\n",
    "        L[i]=mid(LL)\n",
    "for i in range(n):\n",
    "    print(L[i],end=' ')"
   ]
  },
  {
   "cell_type": "code",
   "execution_count": null,
   "metadata": {},
   "outputs": [],
   "source": []
  }
 ],
 "metadata": {
  "kernelspec": {
   "display_name": "Python 3",
   "language": "python",
   "name": "python3"
  },
  "language_info": {
   "codemirror_mode": {
    "name": "ipython",
    "version": 3
   },
   "file_extension": ".py",
   "mimetype": "text/x-python",
   "name": "python",
   "nbconvert_exporter": "python",
   "pygments_lexer": "ipython3",
   "version": "3.7.3"
  }
 },
 "nbformat": 4,
 "nbformat_minor": 2
}
