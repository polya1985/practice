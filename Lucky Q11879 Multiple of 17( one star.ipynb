{
 "cells": [
  {
   "cell_type": "markdown",
   "metadata": {},
   "source": [
    "# &emsp;&emsp;&emsp;&emsp;&emsp;&emsp;&emsp;&emsp;&emsp;Q11879:  Multiple of 17\n",
    "\n",
    "&emsp;&emsp;定理：若且唯若，移除一個大於等於10的整數n的最後個位數 d，其值再減去5d之後，若為17的倍數，則 n 亦為17的倍數。\n",
    "\n",
    "例如：34為17的倍數，因為3-20=-17為17的倍數；201非17的倍數，因為20-5=15非17的倍數。\n",
    "\n",
    "給定一正整數 n，請你判斷 n 是否為17的倍數。\n",
    "\n",
    "### Input\n",
    "\n",
    "最多有十組測試資料，每組一列為一個整數  n ( 1 <= n <= 10100)，當 n = 0表示資料結束。\n",
    "\n",
    "### Output\n",
    "\n",
    "若為 17 的倍數請輸出 1，否則請輸出 0。\n",
    "\n",
    "#### Sample Input\t                                                      \n",
    "34<br>\n",
    "201<br>\n",
    "2098765413<br>\n",
    "1717171717171717171717171717171717171717171717171718<br>\n",
    "0\n",
    "#### Sample Output\n",
    "1<br>\n",
    "0<br>\n",
    "1<br>\n",
    "0<br>\n",
    "\n",
    "\n",
    "\n"
   ]
  },
  {
   "cell_type": "code",
   "execution_count": 5,
   "metadata": {},
   "outputs": [
    {
     "name": "stdout",
     "output_type": "stream",
     "text": [
      "數據筆數5\n",
      "34\n",
      "1\n",
      "201\n",
      "0\n",
      "789\n",
      "0\n",
      "1\n",
      "0\n",
      "1\n",
      "0\n"
     ]
    }
   ],
   "source": [
    "n=int(input(\"數據筆數\"))\n",
    "def f(n):\n",
    "    a=int(input())\n",
    "    while a!=0:\n",
    "        d=a%10\n",
    "        m17=((a-d)/10 -5*d)%17\n",
    "        if m17==0:\n",
    "            print(1)\n",
    "        else:\n",
    "            print(0)\n",
    "        break\n",
    "           \n",
    "for i in range(n):\n",
    "    f(n)    \n",
    "    "
   ]
  },
  {
   "cell_type": "code",
   "execution_count": null,
   "metadata": {},
   "outputs": [],
   "source": []
  }
 ],
 "metadata": {
  "kernelspec": {
   "display_name": "Python 3",
   "language": "python",
   "name": "python3"
  },
  "language_info": {
   "codemirror_mode": {
    "name": "ipython",
    "version": 3
   },
   "file_extension": ".py",
   "mimetype": "text/x-python",
   "name": "python",
   "nbconvert_exporter": "python",
   "pygments_lexer": "ipython3",
   "version": "3.7.3"
  }
 },
 "nbformat": 4,
 "nbformat_minor": 2
}
