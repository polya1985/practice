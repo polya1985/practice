{
 "cells": [
  {
   "cell_type": "markdown",
   "metadata": {},
   "source": [
    "## 成績指標"
   ]
  },
  {
   "cell_type": "code",
   "execution_count": 22,
   "metadata": {},
   "outputs": [
    {
     "name": "stdout",
     "output_type": "stream",
     "text": [
      "3\n",
      "12 78 90\n",
      "12 78 90\n",
      "12\n",
      "78\n"
     ]
    }
   ],
   "source": [
    "p = int(input())\n",
    "line=list(input().split())\n",
    "line.sort()\n",
    "count=0\n",
    "nn_lis=[]\n",
    "tt_lis=[]\n",
    "for i in range(p):\n",
    "    a=line[i]\n",
    "    if i<(p-1):\n",
    "        print(a,end=\" \")\n",
    "    if int(line[i])<60:\n",
    "        count=count+1\n",
    "        nn_lis.append(line[i])\n",
    "    else:\n",
    "        tt_lis.append(line[i])\n",
    "print(line[-1])\n",
    "if count>0:\n",
    "    print(max(nn_lis))\n",
    "else:\n",
    "    print('best case')\n",
    "if (p-count)>0:\n",
    "    print(min(tt_lis))\n",
    "else:\n",
    "    print('worst case')\n"
   ]
  },
  {
   "cell_type": "markdown",
   "metadata": {},
   "source": [
    "## 三角形辨別"
   ]
  },
  {
   "cell_type": "code",
   "execution_count": 36,
   "metadata": {},
   "outputs": [
    {
     "name": "stdout",
     "output_type": "stream",
     "text": [
      ">>>3 4 5\n",
      "3 4 5\n",
      "Right\n"
     ]
    }
   ],
   "source": [
    "line=list(map(int,input('>>>').split()))\n",
    "line.sort()\n",
    "a,b,c=line\n",
    "print(a,end=' ')\n",
    "print(b,end=' ')\n",
    "print(c)\n",
    "\n",
    "if (a+b)<=c:\n",
    "    print('No')\n",
    "else:\n",
    "    if (a*a+b*b)<(c*c):\n",
    "        print('Obtuse')\n",
    "    elif (a*a+b*b)==(c*c):\n",
    "        print('Right')\n",
    "    else:\n",
    "        print('Acute')\n",
    " "
   ]
  },
  {
   "cell_type": "markdown",
   "metadata": {},
   "source": [
    "## 秘密差"
   ]
  },
  {
   "cell_type": "code",
   "execution_count": 41,
   "metadata": {},
   "outputs": [
    {
     "name": "stdout",
     "output_type": "stream",
     "text": [
      ">>>9191919919191191919191919191919191\n",
      "88\n"
     ]
    }
   ],
   "source": [
    "num_list = list(map(int,list(input(\">>>\"))))\n",
    "s=sum(num_list)\n",
    "L=[]\n",
    "for i in range(len(num_list)):\n",
    "    if (i%2) == 0:\n",
    "        L.append(num_list[i])\n",
    "t=sum(L)\n",
    "ans=abs(s-2*t)\n",
    "print(ans)"
   ]
  },
  {
   "cell_type": "markdown",
   "metadata": {},
   "source": [
    "## 邏輯運算子"
   ]
  },
  {
   "cell_type": "code",
   "execution_count": 49,
   "metadata": {},
   "outputs": [
    {
     "name": "stdout",
     "output_type": "stream",
     "text": [
      ">>>0 0 1\n",
      "IMPOSSIBLE\n"
     ]
    }
   ],
   "source": [
    "line=list(input(\">>>\").split())\n",
    "for i in range(len(line)):\n",
    "    if int(line[i])>0:\n",
    "        line[i]='1'\n",
    "lis=list(map(int,line))\n",
    "a,b,c=lis\n",
    "d=1\n",
    "if a&b==c:\n",
    "    d=0\n",
    "    print('AND')\n",
    "if a|b==c:\n",
    "    d=0\n",
    "    print('OR')\n",
    "if a^b==c:\n",
    "    d=0\n",
    "    print('XOR')\n",
    "if d==1:\n",
    "    print('IMPOSSIBLE')\n",
    "    \n"
   ]
  },
  {
   "cell_type": "markdown",
   "metadata": {},
   "source": [
    "## 特殊編碼"
   ]
  },
  {
   "cell_type": "code",
   "execution_count": 69,
   "metadata": {
    "scrolled": true
   },
   "outputs": [
    {
     "name": "stdout",
     "output_type": "stream",
     "text": [
      ">>>4\n",
      ">>1 1 0 1\n",
      ">>1 0 0 0\n",
      ">>0 1 1 1\n",
      ">>1 1 0 1\n",
      "DEBD\n"
     ]
    }
   ],
   "source": [
    "p=int(input(\">>>\"))\n",
    "L=[]\n",
    "for i in range(p):\n",
    "    line=list(input('>>').split())\n",
    "    st=('').join(line)\n",
    "    L.append(st)\n",
    "ss=list('ABCDEF')\n",
    "tt=['0101','0111','0010','1101','1000','1100']\n",
    "D=dict(zip(tt,ss))\n",
    "LL=list(map(lambda x:D[x],L))\n",
    "sst=('').join(LL)\n",
    "print(sst)"
   ]
  },
  {
   "cell_type": "markdown",
   "metadata": {},
   "source": [
    "## 最大和 105.10--2"
   ]
  },
  {
   "cell_type": "code",
   "execution_count": 3,
   "metadata": {},
   "outputs": [
    {
     "name": "stdout",
     "output_type": "stream",
     "text": [
      ">4 3\n",
      ">6 3 2\n",
      ">2 7 9\n",
      ">4 7 1\n",
      ">9 5 3\n",
      "31\n",
      "-1\n"
     ]
    }
   ],
   "source": [
    "ro1=list(map(int,input(\">\").split()))\n",
    "a,b=ro1\n",
    "L=[]\n",
    "for i in range(a):\n",
    "    AA=list(map(int,input(\">\").split()))\n",
    "    L.append(max(AA))\n",
    "s=sum(L)\n",
    "print(s)\n",
    "LL=[]\n",
    "for j in range(a):\n",
    "    if s%(L[j])== 0:\n",
    "        LL.append(L[j])\n",
    "if len(LL)==0:\n",
    "    print('-1')\n",
    "else:\n",
    "    for k in range(len(LL)-1):\n",
    "        print(LL[k],end=' ')\n",
    "    print(LL[-1])"
   ]
  },
  {
   "cell_type": "markdown",
   "metadata": {},
   "source": [
    "## 定時K彈 105.10--3"
   ]
  },
  {
   "cell_type": "code",
   "execution_count": 10,
   "metadata": {},
   "outputs": [
    {
     "name": "stdout",
     "output_type": "stream",
     "text": [
      ">6 3 5\n",
      "1\n"
     ]
    }
   ],
   "source": [
    "ro1=list(map(int,input(\">\").split()))\n",
    "n,m,k=ro1\n",
    "L=list(range(1,n+1))\n",
    "t=-1\n",
    "for i in range(k):\n",
    "    if i==0:\n",
    "        t=t+m\n",
    "        t=t%n\n",
    "        del (L[t])\n",
    "        n=n-1\n",
    "    else:\n",
    "        t=t+m-1\n",
    "        t=t%n\n",
    "        del (L[t])\n",
    "        n=n-1\n",
    "t=t%n\n",
    "print(L[t])"
   ]
  },
  {
   "cell_type": "markdown",
   "metadata": {},
   "source": [
    "## 棒球遊戲 105.10--4"
   ]
  },
  {
   "cell_type": "code",
   "execution_count": 51,
   "metadata": {
    "scrolled": true
   },
   "outputs": [
    {
     "name": "stdout",
     "output_type": "stream",
     "text": [
      "5 1B 1B FO GO 1B\n",
      "5 1B 2B FO FO SO\n",
      "4 SO HR SO 1B\n",
      "4 FO FO FO HR\n",
      "4 1B 1B 1B 1B\n",
      "4 GO GO 3B GO\n",
      "4 1B GO GO SO\n",
      "4 SO GO 2B 2B\n",
      "4 3B GO GO FO\n",
      "6\n",
      "5\n"
     ]
    }
   ],
   "source": [
    "list1=[1,2,3,4,-1,-1,-1]\n",
    "list2=['1B','2B','3B','HR','FO','GO','SO']\n",
    "D=dict(zip(list2,list1))\n",
    "L=[]\n",
    "for i in range(10):\n",
    "    LL=input(\"\").split()\n",
    "    L.append(LL)\n",
    "a=int(L[9][0])\n",
    "get=0\n",
    "lose=0\n",
    "sc=[]\n",
    "for i in range(1,6):\n",
    "    for j in range(9):\n",
    "        d=D[L[j][i]]\n",
    "        if d>0:\n",
    "            for k in range(len(sc)):\n",
    "                sc[k]=sc[k]+d\n",
    "            sc.insert(0,d)\n",
    "            for p in range(len(sc)):\n",
    "                if sc[p]>3:\n",
    "                    get=get+1\n",
    "                    sc[p]=0\n",
    "            while (sc[-1]==0)&len(sc)>0:\n",
    "                del (sc[-1])\n",
    "        else:\n",
    "            lose=lose-1\n",
    "        if (lose<0)&(lose%3==0):\n",
    "            sc=[]\n",
    "        if abs(lose)==a:\n",
    "            break\n",
    "    if abs(lose)==a:\n",
    "        break\n",
    "print(get)\n"
   ]
  },
  {
   "cell_type": "code",
   "execution_count": null,
   "metadata": {},
   "outputs": [],
   "source": [
    " "
   ]
  },
  {
   "cell_type": "markdown",
   "metadata": {},
   "source": [
    "## 小群體 106.3--2"
   ]
  },
  {
   "cell_type": "code",
   "execution_count": 8,
   "metadata": {
    "scrolled": true
   },
   "outputs": [
    {
     "name": "stdout",
     "output_type": "stream",
     "text": [
      "10\n",
      "4 7 2 9 6 0 8 1 5 3\n",
      "[[0, 4, 6, 8, 5], [1, 7], [2], [3, 9]]\n",
      "4\n"
     ]
    }
   ],
   "source": [
    "p=int(input())\n",
    "L1=list(range(p))\n",
    "L2=list(map(int,input().split()))\n",
    "D=dict(zip(L1,L2))\n",
    "tem=[]\n",
    "k=0\n",
    "while len(L1)>0:\n",
    "    t=-1\n",
    "    p=L1[0]\n",
    "    tem.append([])\n",
    "    while t!=p:\n",
    "        if t==-1:\n",
    "            t=p\n",
    "        tem[k].append(t)\n",
    "        L1.remove(t)\n",
    "        t=D[t]\n",
    "    k=k+1\n",
    "print(tem)\n",
    "print(len(tem))"
   ]
  },
  {
   "cell_type": "code",
   "execution_count": null,
   "metadata": {},
   "outputs": [],
   "source": []
  },
  {
   "cell_type": "markdown",
   "metadata": {},
   "source": [
    "## 數字龍捲風 106.3--3"
   ]
  },
  {
   "cell_type": "code",
   "execution_count": 28,
   "metadata": {},
   "outputs": [
    {
     "name": "stdout",
     "output_type": "stream",
     "text": [
      "3\n",
      "1\n",
      "4 1 2 \n",
      "3 0 5\n",
      "6 7 8\n"
     ]
    },
    {
     "ename": "IndexError",
     "evalue": "list index out of range",
     "output_type": "error",
     "traceback": [
      "\u001b[1;31m---------------------------------------------------------------------------\u001b[0m",
      "\u001b[1;31mIndexError\u001b[0m                                Traceback (most recent call last)",
      "\u001b[1;32m<ipython-input-28-ebb103862ed5>\u001b[0m in \u001b[0;36m<module>\u001b[1;34m\u001b[0m\n\u001b[0;32m     65\u001b[0m                 \u001b[0muu\u001b[0m\u001b[1;33m=\u001b[0m\u001b[0muu\u001b[0m\u001b[1;33m+\u001b[0m\u001b[1;36m1\u001b[0m\u001b[1;33m\u001b[0m\u001b[1;33m\u001b[0m\u001b[0m\n\u001b[0;32m     66\u001b[0m \u001b[1;32melse\u001b[0m\u001b[1;33m:\u001b[0m\u001b[1;33m\u001b[0m\u001b[1;33m\u001b[0m\u001b[0m\n\u001b[1;32m---> 67\u001b[1;33m     \u001b[1;32mfor\u001b[0m \u001b[0mk\u001b[0m \u001b[1;32min\u001b[0m \u001b[0mga\u001b[0m\u001b[1;33m(\u001b[0m\u001b[0mw\u001b[0m\u001b[1;33m,\u001b[0m\u001b[0ma\u001b[0m\u001b[1;33m,\u001b[0m\u001b[0mn\u001b[0m\u001b[1;33m)\u001b[0m\u001b[1;33m:\u001b[0m\u001b[1;33m\u001b[0m\u001b[1;33m\u001b[0m\u001b[0m\n\u001b[0m\u001b[0;32m     68\u001b[0m         \u001b[0me\u001b[0m\u001b[1;33m=\u001b[0m\u001b[0mabs\u001b[0m\u001b[1;33m(\u001b[0m\u001b[0mk\u001b[0m\u001b[1;33m)\u001b[0m\u001b[1;33m\u001b[0m\u001b[1;33m\u001b[0m\u001b[0m\n\u001b[0;32m     69\u001b[0m         \u001b[1;32mfor\u001b[0m \u001b[0mh\u001b[0m \u001b[1;32min\u001b[0m \u001b[0mrange\u001b[0m\u001b[1;33m(\u001b[0m\u001b[0me\u001b[0m\u001b[1;33m)\u001b[0m\u001b[1;33m:\u001b[0m\u001b[1;33m\u001b[0m\u001b[1;33m\u001b[0m\u001b[0m\n",
      "\u001b[1;32m<ipython-input-28-ebb103862ed5>\u001b[0m in \u001b[0;36mga\u001b[1;34m(w, t, n)\u001b[0m\n\u001b[0;32m     42\u001b[0m     \u001b[0mPO\u001b[0m\u001b[1;33m=\u001b[0m\u001b[1;33m[\u001b[0m\u001b[1;33m]\u001b[0m\u001b[1;33m\u001b[0m\u001b[1;33m\u001b[0m\u001b[0m\n\u001b[0;32m     43\u001b[0m     \u001b[1;32mfor\u001b[0m \u001b[0mi\u001b[0m \u001b[1;32min\u001b[0m \u001b[0mrange\u001b[0m\u001b[1;33m(\u001b[0m\u001b[1;36m1\u001b[0m\u001b[1;33m,\u001b[0m\u001b[0mn\u001b[0m\u001b[1;33m)\u001b[0m\u001b[1;33m:\u001b[0m\u001b[1;33m\u001b[0m\u001b[1;33m\u001b[0m\u001b[0m\n\u001b[1;32m---> 44\u001b[1;33m         \u001b[0mt\u001b[0m\u001b[1;33m=\u001b[0m\u001b[0mw\u001b[0m\u001b[1;33m[\u001b[0m\u001b[0mi\u001b[0m\u001b[1;33m]\u001b[0m\u001b[1;33m*\u001b[0m\u001b[0mL\u001b[0m\u001b[1;33m[\u001b[0m\u001b[0mi\u001b[0m\u001b[1;33m]\u001b[0m\u001b[1;33m\u001b[0m\u001b[1;33m\u001b[0m\u001b[0m\n\u001b[0m\u001b[0;32m     45\u001b[0m         \u001b[0mPO\u001b[0m\u001b[1;33m.\u001b[0m\u001b[0mappend\u001b[0m\u001b[1;33m(\u001b[0m\u001b[0mt\u001b[0m\u001b[1;33m)\u001b[0m\u001b[1;33m\u001b[0m\u001b[1;33m\u001b[0m\u001b[0m\n\u001b[0;32m     46\u001b[0m     \u001b[1;32mreturn\u001b[0m \u001b[0mPO\u001b[0m\u001b[1;33m\u001b[0m\u001b[1;33m\u001b[0m\u001b[0m\n",
      "\u001b[1;31mIndexError\u001b[0m: list index out of range"
     ]
    }
   ],
   "source": [
    "n=int(input())\n",
    "a=int(input())\n",
    "L=[]\n",
    "w=[]\n",
    "for i in range(n):\n",
    "    PO=list(map(int,input().split()))\n",
    "    L.append(PO)\n",
    "for j in range (1,n):\n",
    "    w.append(j)\n",
    "    w.append(j)\n",
    "w.append(n-1)\n",
    "def vec(x,n):\n",
    "    t=0\n",
    "    k=-1\n",
    "    L=[]\n",
    "    if x==0:\n",
    "        for i in range(1,n):\n",
    "            L.append(k)\n",
    "            t=t+1\n",
    "            if t%2==0:\n",
    "                k=k*(-1)\n",
    "        return L\n",
    "    elif x==1:\n",
    "        for i in range(1,n):\n",
    "            L.append(k)\n",
    "            k=k*(-1)\n",
    "        return L\n",
    "    elif x==2:\n",
    "        for i in range(1,n):\n",
    "            if t%2==0:\n",
    "                k=k*(-1)\n",
    "            t=t+1\n",
    "            L.append(k)\n",
    "        return L\n",
    "    else:\n",
    "        for i in range(1,n):\n",
    "            k=k*(-1)\n",
    "            L.append(k)\n",
    "        return L\n",
    "def ga(w,t,n):\n",
    "    L=vec(t,n)\n",
    "    PO=[]\n",
    "    for i in range(1,n):\n",
    "        t=w[i]*L[i]\n",
    "        PO.append(t)\n",
    "    return PO\n",
    "def place(i,j):\n",
    "    return w[i][j]\n",
    "i=(n-1)/2\n",
    "j=(n-1)/2\n",
    "L.append([i,j])\n",
    "uu=0\n",
    "e=-1\n",
    "if a%2==0:\n",
    "    for k in ga(w,a,n):\n",
    "        e=abs(k)\n",
    "        for h in range(e):\n",
    "            if uu%2==0:\n",
    "                j=j+k\n",
    "                L.append([i,j])\n",
    "                uu=uu+1\n",
    "            else:\n",
    "                i=i+k\n",
    "                L.append([i,j])\n",
    "                uu=uu+1\n",
    "else:\n",
    "    for k in ga(w,a,n):\n",
    "        e=abs(k)\n",
    "        for h in range(e):\n",
    "            if uu%2!=0:\n",
    "                j=j+k\n",
    "                L.append([i,j])\n",
    "                uu=uu+1\n",
    "            else:\n",
    "                i=i+k\n",
    "                L.append([i,j])\n",
    "                uu=uu+1\n",
    "ans=list(map(place(i,j),L))\n",
    "print(ans)\n"
   ]
  },
  {
   "cell_type": "code",
   "execution_count": 29,
   "metadata": {},
   "outputs": [
    {
     "name": "stdout",
     "output_type": "stream",
     "text": [
      "3\n",
      "1\n",
      "4 1 2 \n",
      "3 0 5\n",
      "6 7 8\n",
      "[-1, 1]\n"
     ]
    },
    {
     "ename": "IndexError",
     "evalue": "list index out of range",
     "output_type": "error",
     "traceback": [
      "\u001b[1;31m---------------------------------------------------------------------------\u001b[0m",
      "\u001b[1;31mIndexError\u001b[0m                                Traceback (most recent call last)",
      "\u001b[1;32m<ipython-input-29-9bc1c45a23ac>\u001b[0m in \u001b[0;36m<module>\u001b[1;34m\u001b[0m\n\u001b[0;32m     46\u001b[0m     \u001b[1;32mreturn\u001b[0m \u001b[0mPO\u001b[0m\u001b[1;33m\u001b[0m\u001b[1;33m\u001b[0m\u001b[0m\n\u001b[0;32m     47\u001b[0m \u001b[0mprint\u001b[0m\u001b[1;33m(\u001b[0m\u001b[0mvec\u001b[0m\u001b[1;33m(\u001b[0m\u001b[0ma\u001b[0m\u001b[1;33m,\u001b[0m\u001b[0mn\u001b[0m\u001b[1;33m)\u001b[0m\u001b[1;33m)\u001b[0m\u001b[1;33m\u001b[0m\u001b[1;33m\u001b[0m\u001b[0m\n\u001b[1;32m---> 48\u001b[1;33m \u001b[0mprint\u001b[0m\u001b[1;33m(\u001b[0m\u001b[0mga\u001b[0m\u001b[1;33m(\u001b[0m\u001b[0mw\u001b[0m\u001b[1;33m,\u001b[0m\u001b[0ma\u001b[0m\u001b[1;33m,\u001b[0m\u001b[0mn\u001b[0m\u001b[1;33m)\u001b[0m\u001b[1;33m)\u001b[0m\u001b[1;33m\u001b[0m\u001b[1;33m\u001b[0m\u001b[0m\n\u001b[0m",
      "\u001b[1;32m<ipython-input-29-9bc1c45a23ac>\u001b[0m in \u001b[0;36mga\u001b[1;34m(w, a, n)\u001b[0m\n\u001b[0;32m     42\u001b[0m     \u001b[0mPO\u001b[0m\u001b[1;33m=\u001b[0m\u001b[1;33m[\u001b[0m\u001b[1;33m]\u001b[0m\u001b[1;33m\u001b[0m\u001b[1;33m\u001b[0m\u001b[0m\n\u001b[0;32m     43\u001b[0m     \u001b[1;32mfor\u001b[0m \u001b[0mi\u001b[0m \u001b[1;32min\u001b[0m \u001b[0mrange\u001b[0m\u001b[1;33m(\u001b[0m\u001b[1;36m1\u001b[0m\u001b[1;33m,\u001b[0m\u001b[0mn\u001b[0m\u001b[1;33m)\u001b[0m\u001b[1;33m:\u001b[0m\u001b[1;33m\u001b[0m\u001b[1;33m\u001b[0m\u001b[0m\n\u001b[1;32m---> 44\u001b[1;33m         \u001b[0mt\u001b[0m\u001b[1;33m=\u001b[0m\u001b[0mw\u001b[0m\u001b[1;33m[\u001b[0m\u001b[0mi\u001b[0m\u001b[1;33m]\u001b[0m\u001b[1;33m*\u001b[0m\u001b[0mL\u001b[0m\u001b[1;33m[\u001b[0m\u001b[0mi\u001b[0m\u001b[1;33m]\u001b[0m\u001b[1;33m\u001b[0m\u001b[1;33m\u001b[0m\u001b[0m\n\u001b[0m\u001b[0;32m     45\u001b[0m         \u001b[0mPO\u001b[0m\u001b[1;33m.\u001b[0m\u001b[0mappend\u001b[0m\u001b[1;33m(\u001b[0m\u001b[0mt\u001b[0m\u001b[1;33m)\u001b[0m\u001b[1;33m\u001b[0m\u001b[1;33m\u001b[0m\u001b[0m\n\u001b[0;32m     46\u001b[0m     \u001b[1;32mreturn\u001b[0m \u001b[0mPO\u001b[0m\u001b[1;33m\u001b[0m\u001b[1;33m\u001b[0m\u001b[0m\n",
      "\u001b[1;31mIndexError\u001b[0m: list index out of range"
     ]
    }
   ],
   "source": [
    "n=int(input())\n",
    "a=int(input())\n",
    "L=[]\n",
    "w=[]\n",
    "for i in range(n):\n",
    "    PO=list(map(int,input().split()))\n",
    "    L.append(PO)\n",
    "for j in range (1,n):\n",
    "    w.append(j)\n",
    "    w.append(j)\n",
    "w.append(n-1)\n",
    "def vec(x,n):\n",
    "    t=0\n",
    "    k=-1\n",
    "    L=[]\n",
    "    if x==0:\n",
    "        for i in range(1,n):\n",
    "            L.append(k)\n",
    "            t=t+1\n",
    "            if t%2==0:\n",
    "                k=k*(-1)\n",
    "        return L\n",
    "    elif x==1:\n",
    "        for i in range(1,n):\n",
    "            L.append(k)\n",
    "            k=k*(-1)\n",
    "        return L\n",
    "    elif x==2:\n",
    "        for i in range(1,n):\n",
    "            if t%2==0:\n",
    "                k=k*(-1)\n",
    "            t=t+1\n",
    "            L.append(k)\n",
    "        return L\n",
    "    else:\n",
    "        for i in range(1,n):\n",
    "            k=k*(-1)\n",
    "            L.append(k)\n",
    "        return L\n",
    "def ga(w,a,n):\n",
    "    L=vec(a,n)\n",
    "    PO=[]\n",
    "    for i in range(1,n):\n",
    "        t=w[i]*L[i]\n",
    "        PO.append(t)\n",
    "    return PO\n",
    "print(vec(a,n))\n",
    "print(ga(w,a,n))"
   ]
  },
  {
   "cell_type": "code",
   "execution_count": null,
   "metadata": {},
   "outputs": [],
   "source": []
  },
  {
   "cell_type": "markdown",
   "metadata": {},
   "source": [
    "## 基地台106.3--4"
   ]
  },
  {
   "cell_type": "code",
   "execution_count": null,
   "metadata": {},
   "outputs": [],
   "source": []
  },
  {
   "cell_type": "code",
   "execution_count": 31,
   "metadata": {},
   "outputs": [
    {
     "name": "stdout",
     "output_type": "stream",
     "text": [
      "[1, 1, 4, 6, 6, 6, 7, 7, 8, 9]\n",
      "[1, 4, 6, 7, 8, 9]\n"
     ]
    }
   ],
   "source": [
    "# 刪除重複的值 (創建新的序列)\n",
    "y=[1,4,8,6,6,6,7,7,9,1]\n",
    "y.sort()\n",
    "z=[]\n",
    "for i in y:\n",
    "    if i not in z:\n",
    "        z.append(i)\n",
    "print(y)\n",
    "print(z)\n",
    "    "
   ]
  },
  {
   "cell_type": "code",
   "execution_count": 33,
   "metadata": {},
   "outputs": [
    {
     "name": "stdout",
     "output_type": "stream",
     "text": [
      "[1, 1, 2, 2, 3, 5, 6, 6, 6, 9]\n",
      "[1, 2, 3, 5, 6, 9]\n"
     ]
    }
   ],
   "source": [
    "# 用集合來消除重複的值\n",
    "yy=[3,5,6,6,6,2,2,1,1,9]\n",
    "yy.sort()\n",
    "SD=set(yy)\n",
    "sd=list(SD)\n",
    "print(yy)\n",
    "print(sd)"
   ]
  },
  {
   "cell_type": "code",
   "execution_count": null,
   "metadata": {},
   "outputs": [],
   "source": []
  },
  {
   "cell_type": "code",
   "execution_count": null,
   "metadata": {},
   "outputs": [],
   "source": []
  },
  {
   "cell_type": "markdown",
   "metadata": {},
   "source": [
    "## 交錯字串106.10--2"
   ]
  },
  {
   "cell_type": "code",
   "execution_count": 8,
   "metadata": {},
   "outputs": [
    {
     "name": "stdout",
     "output_type": "stream",
     "text": [
      "2\n",
      "aafAXbbCDCCC\n",
      "['a', 'a', 'f', 'A', 'X', 'b', 'b', 'C', 'D', 'C', 'C', 'C']\n",
      "8\n"
     ]
    }
   ],
   "source": [
    "k=int(input())\n",
    "L1=list(input())\n",
    "print(L1)\n",
    "def isup(x):\n",
    "    if x.islower():\n",
    "        return \"0\"\n",
    "    return '1'\n",
    "str1=('').join(list(map(isup,L1)))\n",
    "L2=[]\n",
    "L2.append('0'*k)\n",
    "L2.append('1'*k)\n",
    "c=0\n",
    "d=0\n",
    "t0='0'*k\n",
    "t1='1'*k\n",
    "if t0 not in str1:\n",
    "    c=1\n",
    "if t1 not in str1:\n",
    "    d=1\n",
    "s=1\n",
    "while c==0:\n",
    "    w=L2[s%2]\n",
    "    s=s+1\n",
    "    if t0+w not in str1:\n",
    "        c=1\n",
    "    else:\n",
    "        t0=t0+w\n",
    "p=0\n",
    "while d==0:\n",
    "    w=L2[p%2]\n",
    "    p=p+1\n",
    "    if t1+w not in str1:\n",
    "        d=1\n",
    "    else:\n",
    "        t1=t1+w\n",
    "if (p==0)&(s==1):\n",
    "    print(0)\n",
    "else:\n",
    "    M=max([len(t0),len(t1)])\n",
    "    print(M)"
   ]
  },
  {
   "cell_type": "markdown",
   "metadata": {},
   "source": [
    "## 樹狀圖分析106.10--3"
   ]
  },
  {
   "cell_type": "code",
   "execution_count": 7,
   "metadata": {},
   "outputs": [
    {
     "name": "stdout",
     "output_type": "stream",
     "text": [
      "7\n",
      "0\n",
      "2 6 7\n",
      "2 1 4\n",
      "0\n",
      "2 3 2\n",
      "0\n",
      "0\n",
      "[[0], [2, 6, 7], [2, 1, 4], [0], [2, 3, 2], [0], [0]]\n",
      "[6, 7, 1, 4, 3, 2]\n",
      "[1, 2, 3, 4, 5, 6, 7]\n",
      "5\n",
      "4\n"
     ]
    }
   ],
   "source": [
    "n=int(input())\n",
    "L1=[]\n",
    "for i in range(n):\n",
    "    UU=list(map(int,input().split()))\n",
    "    L1.append(UU)\n",
    "print(L1)\n",
    "intt=list(range(1,n+1))\n",
    "L2=[]\n",
    "for j in range(n):\n",
    "    if len(L1[j])>1:\n",
    "        for k in range(1,len(L1[j])):\n",
    "            L2.append(L1[j][k])\n",
    "print(L2)\n",
    "print(intt)\n",
    "for l in intt:\n",
    "    if l not in L2:\n",
    "        print(l)\n",
    "def h(x):\n",
    "    a=x-1\n",
    "    lis=L1[a]\n",
    "    b=lis[0]\n",
    "    if b==0:\n",
    "        return 0\n",
    "    else:\n",
    "        k=0\n",
    "        for g in range(1,len(lis)):\n",
    "            if h(lis[g])>k:\n",
    "                k=h(lis[g])\n",
    "        return k+1\n",
    "s=0\n",
    "for i in range(1,n+1):\n",
    "    s=s+h(i)\n",
    "print(s)\n"
   ]
  },
  {
   "cell_type": "code",
   "execution_count": 14,
   "metadata": {},
   "outputs": [
    {
     "data": {
      "text/plain": [
       "{2: 1}"
      ]
     },
     "execution_count": 14,
     "metadata": {},
     "output_type": "execute_result"
    }
   ],
   "source": [
    "D={}\n",
    "A=[[1,2],[4,5],[3,4],[2,2]]\n",
    "D[A[0][1]]=A[0][0]\n",
    "D\n"
   ]
  },
  {
   "cell_type": "code",
   "execution_count": 4,
   "metadata": {},
   "outputs": [
    {
     "name": "stdout",
     "output_type": "stream",
     "text": [
      "[0, 1, 3, 3, 4, 6, 7, 8, 9]\n"
     ]
    }
   ],
   "source": [
    "# Insertion Sort\n",
    "\n",
    "L=[7,4,0,8,3,9,6,3,1]\n",
    "def sor(L): \n",
    "    n=len(L)  \n",
    "    LL=[]\n",
    "    LL.append(L[0])\n",
    "    for i in range(1,n):\n",
    "        c=0\n",
    "        for j in range(len(LL)):\n",
    "            if L[i]<=LL[j]:\n",
    "                LL.insert(j,L[i])\n",
    "                break\n",
    "            c=c+1\n",
    "            if c==len(LL):\n",
    "                LL.append(L[i])\n",
    "            \n",
    "    print(LL)\n",
    "\n",
    "sor(L)\n",
    "        "
   ]
  },
  {
   "cell_type": "code",
   "execution_count": 8,
   "metadata": {},
   "outputs": [
    {
     "name": "stdout",
     "output_type": "stream",
     "text": [
      "[35162, 91959, 29046, 68582, 2022, 21085, 49839, 86050, 273, 28254, 2953, 11449, 4952, 63899, 4338, 9432, 92869, 65006, 37557, 68311, 7979, 64212, 32684, 55018, 57134, 20624, 87192, 58290, 34915, 75851, 93972, 14977, 20290, 88248, 66455, 30202, 59614, 34482, 64522, 10690, 68160, 82369, 13127, 44248, 54995, 32653, 30231, 87186, 19174, 53989]\n",
      "[273, 2022, 2953, 4338, 4952, 7979, 9432, 10690, 11449, 13127, 14977, 19174, 20290, 20624, 21085, 28254, 29046, 30202, 30231, 32653, 32684, 34482, 34915, 35162, 37557, 44248, 49839, 53989, 54995, 55018, 57134, 58290, 59614, 63899, 64212, 64522, 65006, 66455, 68160, 68311, 68582, 75851, 82369, 86050, 87186, 87192, 88248, 91959, 92869, 93972]\n"
     ]
    }
   ],
   "source": [
    "# Insertion Sort & \n",
    "from random import randint \n",
    "K=[]\n",
    "for i in range(50):\n",
    "    K.append(randint(1,100000)) \n",
    "n=len(K)  \n",
    "LL=[]\n",
    "LL.append(K[0])\n",
    "for j in range(1,n):\n",
    "    high=len(LL)-1\n",
    "    low=0\n",
    "    if K[j]>=LL[high]:\n",
    "        LL.insert(len(LL),K[j])\n",
    "    elif K[j]<=LL[low]:\n",
    "        LL.insert(low,K[j])\n",
    "    else:\n",
    "        while True:\n",
    "            mid=int((high+low)/2)\n",
    "            if K[j]==LL[mid]:\n",
    "                LL.insert(mid,K[j])\n",
    "                break\n",
    "            elif K[j]>LL[mid]:\n",
    "                low=mid\n",
    "            else:\n",
    "                high=mid\n",
    "            if (high-low)==1:\n",
    "                LL.insert(high,K[j])\n",
    "                break\n",
    "print(K)\n",
    "print(LL)\n"
   ]
  },
  {
   "cell_type": "code",
   "execution_count": 3,
   "metadata": {},
   "outputs": [
    {
     "data": {
      "text/plain": [
       "81"
      ]
     },
     "execution_count": 3,
     "metadata": {},
     "output_type": "execute_result"
    }
   ],
   "source": [
    "from random import randint\n",
    "randint(1,100)"
   ]
  },
  {
   "cell_type": "code",
   "execution_count": 2,
   "metadata": {},
   "outputs": [
    {
     "name": "stdout",
     "output_type": "stream",
     "text": [
      "[3603, 1930, 9635, 3951, 821]\n",
      "[821, 1930, 3603, 3951, 9635]\n"
     ]
    }
   ],
   "source": [
    "# Insertion Sort & \n",
    "from random import randint \n",
    "K=[]\n",
    "for i in range(5):\n",
    "    K.append(randint(1,10000)) \n",
    "n=len(K)  \n",
    "LL=[]\n",
    "LL.append(K[0])\n",
    "for j in range(1,n):\n",
    "    high=len(LL)-1\n",
    "    low=0\n",
    "    while True:\n",
    "        if K[j]>=LL[high]:\n",
    "            LL.insert(high+1,K[j])\n",
    "            break\n",
    "        elif K[j]<=LL[low]:\n",
    "            LL.insert(low,K[j])\n",
    "            break\n",
    "        else:\n",
    "            mid=int((high+low)/2)\n",
    "            if K[j]==LL[mid]:\n",
    "                LL.insert(mid,K[j])\n",
    "                break\n",
    "            elif K[j]>LL[mid]:\n",
    "                low=mid+1\n",
    "            else:\n",
    "                high=mid-1\n",
    "print(K)\n",
    "print(LL)"
   ]
  },
  {
   "cell_type": "code",
   "execution_count": 5,
   "metadata": {},
   "outputs": [
    {
     "name": "stdout",
     "output_type": "stream",
     "text": [
      "[821, 1930, 3603, 3951, 9635]\n"
     ]
    }
   ],
   "source": [
    "sor(K)"
   ]
  },
  {
   "cell_type": "markdown",
   "metadata": {},
   "source": [
    "## 血緣關係 105.3--4"
   ]
  },
  {
   "cell_type": "code",
   "execution_count": 28,
   "metadata": {
    "scrolled": true
   },
   "outputs": [
    {
     "name": "stdout",
     "output_type": "stream",
     "text": [
      "8\n",
      "0 1\n",
      "0 2\n",
      "0 3\n",
      "7 0\n",
      "1 4\n",
      "1 5\n",
      "3 6\n",
      "[5, 2, 0, 1, 0, 0, 0, 6]\n",
      "6\n"
     ]
    }
   ],
   "source": [
    "n=int(input())\n",
    "L1=[]\n",
    "for i in range(n-1):\n",
    "    UU=list(map(int,input().split()))\n",
    "    L1.append(UU)\n",
    "root=list(range(n))\n",
    "for k in range(n-1):\n",
    "    root.remove(L1[k][1])\n",
    "LL=[]\n",
    "for j in range(n):\n",
    "    ss=[]\n",
    "    for l in range(n-1):\n",
    "        if j==L1[l][0]:\n",
    "            ss.append(L1[l][1])\n",
    "    LL.append(ss)\n",
    "def h(x):\n",
    "    p=len(x)\n",
    "    if p==0:\n",
    "        return 0\n",
    "    elif p==1:\n",
    "        return h(LL[x[0]])+1\n",
    "    else:\n",
    "        S=[]\n",
    "        T=[]\n",
    "        for i in range(len(x)):\n",
    "            T.append(h(LL[x[i]])+1)\n",
    "        for U in range(2):\n",
    "            S.append(max(T))\n",
    "            T.remove(max(T))\n",
    "        return sum(S)\n",
    "ans=[]\n",
    "for r in range(n):\n",
    "    ans.append(h(LL[r]))\n",
    "print(ans)\n",
    "print(max(ans))\n"
   ]
  },
  {
   "cell_type": "code",
   "execution_count": 25,
   "metadata": {},
   "outputs": [
    {
     "name": "stdout",
     "output_type": "stream",
     "text": [
      "3\n",
      "0\n",
      "1\n",
      "0\n"
     ]
    }
   ],
   "source": [
    "LL=[[1,2],[],[3],[]]\n",
    "def h(x):\n",
    "    p=len(x)\n",
    "    if p==0:\n",
    "        return 0\n",
    "    elif p==1:\n",
    "        return h(LL[x[0]])+1\n",
    "    else:\n",
    "        S=[]\n",
    "        T=[]\n",
    "        for i in range(len(x)):\n",
    "            T.append(h(LL[x[i]])+1)\n",
    "        for U in range(2):\n",
    "            S.append(max(T))\n",
    "            T.remove(max(T))\n",
    "        return sum(S)\n",
    "for k in range(4):\n",
    "    print(h(LL[k]))"
   ]
  },
  {
   "cell_type": "code",
   "execution_count": 29,
   "metadata": {},
   "outputs": [
    {
     "name": "stdout",
     "output_type": "stream",
     "text": [
      "2\n"
     ]
    }
   ],
   "source": [
    "if 12:\n",
    "    print(2)\n",
    "else:\n",
    "    print(3)"
   ]
  },
  {
   "cell_type": "code",
   "execution_count": 48,
   "metadata": {},
   "outputs": [
    {
     "name": "stdout",
     "output_type": "stream",
     "text": [
      "你的幸運數字>>7\n",
      "今日卦象：吉\n"
     ]
    }
   ],
   "source": [
    "#兩光卜卦師\n",
    "from random import randint\n",
    "p=int(input(\"你的幸運數字>>\"))\n",
    "a=randint(1,3)\n",
    "if a == 1:\n",
    "    print('今日卦象：普通')\n",
    "elif a==2:\n",
    "    print('今日卦象：吉')\n",
    "else:\n",
    "    print('今日卦象：大吉')\n"
   ]
  },
  {
   "cell_type": "code",
   "execution_count": null,
   "metadata": {},
   "outputs": [],
   "source": []
  },
  {
   "cell_type": "code",
   "execution_count": null,
   "metadata": {},
   "outputs": [],
   "source": []
  }
 ],
 "metadata": {
  "kernelspec": {
   "display_name": "Python 3",
   "language": "python",
   "name": "python3"
  },
  "language_info": {
   "codemirror_mode": {
    "name": "ipython",
    "version": 3
   },
   "file_extension": ".py",
   "mimetype": "text/x-python",
   "name": "python",
   "nbconvert_exporter": "python",
   "pygments_lexer": "ipython3",
   "version": "3.7.3"
  }
 },
 "nbformat": 4,
 "nbformat_minor": 2
}
