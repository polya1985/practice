{
 "cells": [
  {
   "cell_type": "markdown",
   "metadata": {},
   "source": [
    "#  &emsp;Q13216 Problem with a ridiculously long name but with a ridiculously short description\n",
    "\n",
    "&emsp;&emsp;大家都討厭很長的題目敘述，所以這一題的題目很短: 給你一個整數 n ，請你計算<br>\n",
    "( $66^n$ ) mod 100.\n",
    "\n",
    "\n",
    "\n",
    "### Input\n",
    "\n",
    "輸入的第一列有一個整數代表以下有多少筆測資。\n",
    "接下來的每列有一個正整數 n ( 0 <=  n <= 101000 )\n",
    "\n",
    "\n",
    "### Output\n",
    "\n",
    "對每筆測資輸出一列，輸出 ( 66n ) mod 100 。也就是 66的 n 次方除以 100 的餘數。\n",
    "\n",
    "#### Sample Input\t\n",
    "4<br>\n",
    "0<br>\n",
    "1<br>\n",
    "2<br>\n",
    "9999999999999999999999\t\n",
    "\n",
    "\n",
    "#### Sample Output\n",
    "\n",
    "1<br>\n",
    "66<br>\n",
    "56<br>\n",
    "36"
   ]
  },
  {
   "cell_type": "code",
   "execution_count": 5,
   "metadata": {},
   "outputs": [
    {
     "name": "stdout",
     "output_type": "stream",
     "text": [
      "4\n",
      "0\n",
      "1\n",
      "2\n",
      "999999999999999\n",
      "1\n",
      "66\n",
      "56\n",
      "36\n"
     ]
    }
   ],
   "source": [
    "n=int(input())\n",
    "A_list=[]\n",
    "B_dict={2:56,3:96,4:36,0:76,1:16}\n",
    "for i in range(n):\n",
    "    A_list.append(int(input()))\n",
    "for i in range(n):\n",
    "    if A_list[i]==0:\n",
    "        a_ans=1\n",
    "    elif A_list[i]==1:\n",
    "        a_ans=66\n",
    "    else :\n",
    "        a_ans=B_dict[(A_list[i])%5]\n",
    "    print(a_ans)\n"
   ]
  },
  {
   "cell_type": "markdown",
   "metadata": {},
   "source": []
  },
  {
   "cell_type": "code",
   "execution_count": null,
   "metadata": {},
   "outputs": [],
   "source": []
  }
 ],
 "metadata": {
  "kernelspec": {
   "display_name": "Python 3",
   "language": "python",
   "name": "python3"
  },
  "language_info": {
   "codemirror_mode": {
    "name": "ipython",
    "version": 3
   },
   "file_extension": ".py",
   "mimetype": "text/x-python",
   "name": "python",
   "nbconvert_exporter": "python",
   "pygments_lexer": "ipython3",
   "version": "3.7.3"
  }
 },
 "nbformat": 4,
 "nbformat_minor": 2
}
