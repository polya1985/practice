{
 "cells": [
  {
   "cell_type": "code",
   "execution_count": 1,
   "metadata": {},
   "outputs": [
    {
     "name": "stdout",
     "output_type": "stream",
     "text": [
      "6\n",
      "10\n",
      "1 4 30\n",
      "1 2 10\n",
      "1 5 45\n",
      "2 6 25\n",
      "2 5 40\n",
      "2 3 50\n",
      "3 5 35\n",
      "3 6 15\n",
      "4 6 20\n",
      "5 6 55\n",
      "[[1, 2, 10], [3, 6, 15], [4, 6, 20], [2, 6, 25], [3, 5, 35]]\n"
     ]
    }
   ],
   "source": [
    "n=int(input())      #  輸入n個點\n",
    "eg=int(input())     #  輸入e條邊\n",
    "graph=[]           \n",
    "for i in range(eg):   # 輸入e條邊的權重組合\n",
    "    graph.append(list(map(int,input().split()))) \n",
    "graph.sort(key=lambda s:s[2])     # e條邊 權重從小到大排序   \n",
    "\n",
    "element=[]      #將n個點由小排到大\n",
    "for i in range(len(graph)):\n",
    "    x,y=graph[i][:2]\n",
    "    element.append(x)\n",
    "    element.append(y)\n",
    "element=list(set(element))\n",
    "\n",
    "\n",
    "parent=[-1]*n\n",
    "def root(a):       #找根 \n",
    "    x=element.index(a)\n",
    "    while True:\n",
    "        if parent[x]>=0:\n",
    "            x=element.index(parent[x])\n",
    "        else:\n",
    "            return element[x]\n",
    "        \n",
    "        \n",
    "T=[]\n",
    "i=0\n",
    "while len(T)<(n-1):              # 建立n-1條不回圈的連通\n",
    "    c,d=graph[i][:2]\n",
    "    if root(c)!=root(d) :        # c,d不連通\n",
    "        if c==root(c) or d==root(d):\n",
    "            parent[element.index(c)]=d          # 將兩條獨立部分連通起來\n",
    "            T.append(graph[i])\n",
    "        else:\n",
    "            parent[element.index(root(c))]=root(d) \n",
    "            T.append(graph[i])\n",
    "    i=i+1\n",
    "print(T)    "
   ]
  },
  {
   "cell_type": "code",
   "execution_count": null,
   "metadata": {},
   "outputs": [],
   "source": []
  }
 ],
 "metadata": {
  "kernelspec": {
   "display_name": "Python 3",
   "language": "python",
   "name": "python3"
  },
  "language_info": {
   "codemirror_mode": {
    "name": "ipython",
    "version": 3
   },
   "file_extension": ".py",
   "mimetype": "text/x-python",
   "name": "python",
   "nbconvert_exporter": "python",
   "pygments_lexer": "ipython3",
   "version": "3.7.3"
  }
 },
 "nbformat": 4,
 "nbformat_minor": 2
}
