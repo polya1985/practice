{
 "cells": [
  {
   "cell_type": "code",
   "execution_count": 1,
   "metadata": {},
   "outputs": [
    {
     "name": "stdout",
     "output_type": "stream",
     "text": [
      "6 3\n",
      "4 3 6 5 1 2\n",
      "1 4 2\n",
      "1 2 3 4 5 6 "
     ]
    }
   ],
   "source": [
    "n,p=list(map(int,input().split()))\n",
    "L1=list(map(int,input().split()))\n",
    "L2=list(map(int,input().split()))\n",
    "L2.reverse()\n",
    "def k(L,k):\n",
    "    n=len(L)\n",
    "    LL1=L[(n-k):]\n",
    "    LL2=L[:(n-k)]\n",
    "    new=LL1+LL2\n",
    "    return new\n",
    "def w1(L):\n",
    "    n=int(len(L)/2)\n",
    "    LL1=L[:n]\n",
    "    LL2=L[n:]\n",
    "    new=[]\n",
    "    for i in range(n):\n",
    "        new.append(LL1[i])\n",
    "        new.append(LL2[i])\n",
    "    return new\n",
    "def rw2(L):\n",
    "    n=len(L)\n",
    "    LL1=[]\n",
    "    LL2=[]\n",
    "    for i in range(n):\n",
    "        if (i%2)==0:\n",
    "            LL1.append(L[i])\n",
    "        else:\n",
    "            LL2.append(L[i])\n",
    "    new=LL1+LL2\n",
    "    return new\n",
    "for i in L2:\n",
    "    if i==1:\n",
    "        L1=w1(L1)\n",
    "    elif i==2:\n",
    "        L1=rw2(L1)\n",
    "    else:\n",
    "        L1=k(L1,i)\n",
    "for i in range(len(L1)):\n",
    "    print(L1[i],end=' ')\n",
    "    "
   ]
  },
  {
   "cell_type": "code",
   "execution_count": null,
   "metadata": {},
   "outputs": [],
   "source": []
  }
 ],
 "metadata": {
  "kernelspec": {
   "display_name": "Python 3",
   "language": "python",
   "name": "python3"
  },
  "language_info": {
   "codemirror_mode": {
    "name": "ipython",
    "version": 3
   },
   "file_extension": ".py",
   "mimetype": "text/x-python",
   "name": "python",
   "nbconvert_exporter": "python",
   "pygments_lexer": "ipython3",
   "version": "3.7.3"
  }
 },
 "nbformat": 4,
 "nbformat_minor": 2
}
