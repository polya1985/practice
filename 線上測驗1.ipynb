{
 "cells": [
  {
   "cell_type": "markdown",
   "metadata": {},
   "source": [
    "## 1. 水晶球"
   ]
  },
  {
   "cell_type": "code",
   "execution_count": 9,
   "metadata": {},
   "outputs": [
    {
     "name": "stdout",
     "output_type": "stream",
     "text": [
      "2 2\n",
      "0 0 1 1\n",
      "2 2 2\n",
      "NO\n"
     ]
    }
   ],
   "source": [
    "L1=list(map(int,input().split()))\n",
    "L2=list(map(int,input().split()))\n",
    "xm=[L2[2]-L2[0]]\n",
    "if xm[0]>=0:\n",
    "    xm.append((L1[0]-xm[0]))\n",
    "else:\n",
    "    xm.append(L1[0]+xm[0])\n",
    "ym=[L2[3]-L2[1]]\n",
    "if ym[0]>=0:\n",
    "    ym.append((L1[1]-ym[0]))\n",
    "else:\n",
    "    ym.append(L1[1]+ym[0])\n",
    "W=[xm,ym]\n",
    "L3=list(map(int,input().split()))\n",
    "L4=L3[1:]\n",
    "\n",
    "def sit(L):               ##製作11110000分類\n",
    "    n=len(L)\n",
    "    nn=2**n\n",
    "    s=[]\n",
    "    for i in range(n):                      \n",
    "        s.append([])\n",
    "        for j in range(int(nn/(2**(i+1)))):\n",
    "            s[i].append(1)\n",
    "        for j in range(int(nn/(2**(i+1)))):\n",
    "            s[i].append(0)\n",
    "        s[i]=s[i]*(2**i)       ## 1100建構完成\n",
    "    \n",
    "    sit=[]                    ## 將L4原始走法，分成左右和上下的集合\n",
    "    for i in range(nn):                  \n",
    "        sit.append([[],[]])\n",
    "        for j in range(n):\n",
    "            sit[i][s[j][i]].append(L4[j])       \n",
    "    return sit\n",
    "\n",
    "def signsum(L):               ##製作11-1-1分類\n",
    "    n=len(L)\n",
    "    nn=2**n\n",
    "    s=[]\n",
    "    sum=[]   \n",
    "    for i in range(n):                      \n",
    "        s.append([])\n",
    "        for j in range(int(nn/(2**(i+1)))):\n",
    "            s[i].append(1)\n",
    "        for j in range(int(nn/(2**(i+1)))):\n",
    "            s[i].append(-1)\n",
    "        s[i]=s[i]*(2**i)       ## 1100建構完成    \n",
    "    for k in range(nn):\n",
    "        p=0\n",
    "        for j in range(n):\n",
    "            p=p+L[j]*s[j][k]\n",
    "        sum.append(p)\n",
    "    return sum           \n",
    "def comb(L):\n",
    "    n=len(L)\n",
    "    nn=2**n\n",
    "    L1=sit(L)\n",
    "    ans=[]\n",
    "    for i in range(nn):\n",
    "        p=list(map(signsum,L1[i]))\n",
    "        ans.append(p)\n",
    "    return ans\n",
    "\n",
    "def che(L,W):\n",
    "    L1=comb(L)\n",
    "    n=len(L1)\n",
    "    W1=W[0]\n",
    "    W2=W[1]\n",
    "    c=0\n",
    "    for i in range(n):\n",
    "        for j in range(2):\n",
    "            if (W1[j] in L1[i][0]) and (W2[j] in L1[i][1]):\n",
    "                c=1\n",
    "    return c\n",
    "if che(L4,W) ==1:\n",
    "    print('YES')\n",
    "else:\n",
    "    print(\"NO\")\n"
   ]
  },
  {
   "cell_type": "code",
   "execution_count": null,
   "metadata": {},
   "outputs": [],
   "source": []
  },
  {
   "cell_type": "markdown",
   "metadata": {},
   "source": [
    "## 2.數字翻轉\n",
    "內容 ：輸入任意數字，並將其數字全部倒轉 <br>\n",
    "輸入說明 ： 輸入包含一個整數，不超過 2312545 <br>\n",
    "輸出說明 ： 輸出翻轉過後的數字 <br>\n",
    "範例輸入 ： <br>\n",
    "12345  <br>\n",
    "範例輸出 ： <br>\n",
    "54321"
   ]
  },
  {
   "cell_type": "code",
   "execution_count": 4,
   "metadata": {},
   "outputs": [
    {
     "name": "stdout",
     "output_type": "stream",
     "text": [
      "12345\n",
      "54321\n"
     ]
    }
   ],
   "source": [
    "L1=list(input())\n",
    "n=len(L1)\n",
    "L2=[]\n",
    "for i in range(n):\n",
    "    a=L1.pop(-1)\n",
    "    L2.append(a)\n",
    "st=('').join(L2)\n",
    "print(st)"
   ]
  },
  {
   "cell_type": "markdown",
   "metadata": {},
   "source": [
    "## 3. 找數\n",
    "內容 ：完全平方數就是平方根為整數的整數。例如 1, 4, 81 就是完全平方數。給你兩個整數<br>\n",
    "a 和 b，請你求出 a 與 b 之間 (含) 有幾個完全平方數。<br>\n",
    "輸入說明 ： 輸入檔最多有 201 行的輸入。每行有兩個整數 a 和 b (0<a≤b≤100000)。<br>\n",
    "輸入以含有兩個 0 的一行作為結束，請勿對這行做任何輸出。<br>\n",
    "輸出說明 ： 對於每行輸入，請產生一行輸出，這行含有一個整數，<br>\n",
    "代表 a 與 b 之間 (含) 有多少個完全平方數。<br>\n",
    "範例輸入 ：<br>\n",
    "1 4<br>\n",
    "1 10<br>\n",
    "0  0 <br>\n",
    "範例輸出 ：<br>\n",
    "2<br>\n",
    "3"
   ]
  },
  {
   "cell_type": "code",
   "execution_count": 9,
   "metadata": {},
   "outputs": [
    {
     "name": "stdout",
     "output_type": "stream",
     "text": [
      "1 999\n",
      "1 20\n",
      "1 98\n",
      "0 0\n",
      "31\n",
      "4\n",
      "9\n"
     ]
    }
   ],
   "source": [
    "x=-1\n",
    "y=-1\n",
    "L=[]\n",
    "while (x+y) !=0:\n",
    "    new=list(map(int,input().split()))\n",
    "    x,y=new\n",
    "    L.append(new)\n",
    "L.pop(-1)\n",
    "def sqr(L):\n",
    "    s,t=L\n",
    "    c,d=[0,0]\n",
    "    for i in range(1,s):\n",
    "        if i**2 <s:\n",
    "            c=c+1\n",
    "    for j in range(1,t+1):\n",
    "        if j**2<(t+1):\n",
    "            d=d+1\n",
    "    return (d-c)\n",
    "finish=list(map(sqr,L))\n",
    "for k in range(len(finish)):\n",
    "    print(finish[k])\n",
    "    "
   ]
  },
  {
   "cell_type": "markdown",
   "metadata": {},
   "source": [
    "## 4. 二進位轉換\n",
    "內容 ：還記得計算機概論嗎？還記得二進位嗎？<br>\n",
    "現在我們來計算一下將一個10進位的數字換成二進位數字<br>\n",
    "輸入說明 ： 一個十進位的數值<br>\n",
    "輸出說明 ： 輸出二進位制的結果<br>\n",
    "範例輸入 ：<br>\n",
    "3<br>\n",
    "6<br>\n",
    "範例輸出 ：<br>\n",
    "11<br>\n",
    "110<br>"
   ]
  },
  {
   "cell_type": "code",
   "execution_count": 13,
   "metadata": {},
   "outputs": [
    {
     "name": "stdout",
     "output_type": "stream",
     "text": [
      "3\n",
      "11\n"
     ]
    }
   ],
   "source": [
    "n=int(input())\n",
    "def Bin(x):\n",
    "    a=bin(x)[2:]   # bin 算出來前兩碼是電腦馬的字串，所以前兩碼不看 ，再轉成是數字型態\n",
    "    ans=int(a)\n",
    "    return ans\n",
    "print(Bin(n))\n"
   ]
  },
  {
   "cell_type": "markdown",
   "metadata": {},
   "source": [
    "## 5.我愛偶數\n",
    "我愛偶數 <br>\n",
    "內容 ：文文很喜歡偶數，他甚至有收集偶數的習慣。你給他一個範圍的連續整數，他就會把<br>\n",
    "其中的偶數留下來收藏。如今他又拿到了一個範圍的整數，請問他這次收藏了幾個偶數？對<br>\n",
    "文文來說，0 也算是一個偶數哦！<br>\n",
    "輸入說明 ： 輸入只有一行，其含有兩個由空白隔開的整數 a, b (0 ≤ a ≤ b ≤ 2147483647)。<br>\n",
    "輸出說明 ： 輸出一個整數，代表 a 與 b 之間 (含 a 與 b) 一共有多少個偶數。<br>\n",
    "範例輸入 ：<br>\n",
    "1 4<br>\n",
    "範例輸出 ：<br>\n",
    "2<br>"
   ]
  },
  {
   "cell_type": "code",
   "execution_count": 16,
   "metadata": {},
   "outputs": [
    {
     "name": "stdout",
     "output_type": "stream",
     "text": [
      "1 4\n",
      "2\n"
     ]
    }
   ],
   "source": [
    "a,b=list(map(int,input().split()))\n",
    "ans=int(b/2)-int((a-1)/2)\n",
    "print(ans)\n"
   ]
  },
  {
   "cell_type": "code",
   "execution_count": null,
   "metadata": {},
   "outputs": [],
   "source": []
  }
 ],
 "metadata": {
  "kernelspec": {
   "display_name": "Python 3",
   "language": "python",
   "name": "python3"
  },
  "language_info": {
   "codemirror_mode": {
    "name": "ipython",
    "version": 3
   },
   "file_extension": ".py",
   "mimetype": "text/x-python",
   "name": "python",
   "nbconvert_exporter": "python",
   "pygments_lexer": "ipython3",
   "version": "3.7.3"
  }
 },
 "nbformat": 4,
 "nbformat_minor": 2
}
