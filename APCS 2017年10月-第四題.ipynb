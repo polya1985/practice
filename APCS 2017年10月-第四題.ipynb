{
 "cells": [
  {
   "cell_type": "markdown",
   "metadata": {},
   "source": [
    "## APCS 2017年&emsp;10月\n",
    "## &emsp;&emsp;&emsp;&emsp;&emsp;&emsp;&emsp;第四題：物品堆疊(Stacking)\n",
    "### 問題描述\n",
    "&emsp;&emsp;某個自動化系統中有一個存取物品的子系統，該系統是將N個物品堆在一個垂直的貨架上，每個物品各佔一層。系統運作的方式如下：每次只會取用一個物品，取用時必須先將在其上方的物品貨架升高，取用後必須將該物品放回，然後將剛才升起的貨架降回原始位置，之後才會進行下一個物品的取用。<br>\n",
    "&emsp;&emsp;每一次升高某些物品所需要消耗的能量是以這些物品的總重來計算，在此我們忽略貨架的重量以及其他可能的消耗。現在有N個物品， 第i個物品的重量是w(i)而需要取用的次數為f(i)，我們需要決定如何擺放這些物品的順序來讓消耗的能量越小越好。舉例來說，有兩個物品w(1)=1、w(2)=2、f(1)=3、f(2)=4，也就是說物品 1 的重量是 1 需取用 3次，物品 2 的重量是 2 需取用 4 次。我們有兩個可能的擺放順序(由上而下)：<br>\n",
    "<br>\n",
    "* (1,2)，也就是物品 1 放在上方， 2 在下方。那麼，取用 1 的時候不需要能量，而每次取用 2 的能量消耗是w(1)=1，因為 2 需取用f(2)=4次，所以消耗能量數為\n",
    "w(1)f(2)=4。<br>\n",
    "* (2,1)，也就是物品 2 放在 1 的上方。那麼，取用 2 的時候不需要能量，而每次取用 1 的能量消耗是w(2)=2，因為 1 需取用f(1)= 3 次，所以消耗能量數=w(2)f(1)=6。<br>\n",
    "<br>\n",
    "&emsp;&emsp;在所有可能的兩種擺放順序中，最少的能量是 4 ，所以答案是 4 。再舉一例，若有三物品而w(1)=3、w(2)=4、w(3)=5、f(1)=1、f(2)=2、f(3)=3。假設由上而下以(3,2,1)的順序，此時能量計算方式如下：取用物品 3 不需要能量，取用物品 2 消耗w(3)f(2)=10，取用物品 1 消耗(w(3)+w(2))f(1)=9，總計能量為 19 。如果以(1,2,3)的順序，則消耗能量為32+(3+4)3=27。事實上，我們一共有3!=6種可能的擺放順序，其中順序(3,2,1)可以得到最小消耗能量 19 。\n",
    "\n",
    "### 輸入格式\n",
    "&emsp;&emsp;輸入的第一行是物品件數 N，第二行有 N個正整數，依序是各物品的重量 w(1)、w(2)、...、w(N)，重量皆不超過 1000 且以一個空白間隔。第三行有N個正整數，依序是各物品的取用次數f(1)、f(2)、...、f(N)，次數皆為 1000 以內的正整數，以一個空白間隔。<br>\n",
    "<br>\n",
    "### 輸出格式\n",
    "&emsp;&emsp;輸出最小能量消耗值，以換行結尾。所求答案不會超過 63 個位元所能表示的正整數。<br>\n",
    "<br>\n",
    "#### 範例一(第1、3子題)：輸入                \n",
    "2                                     \n",
    "20 10                                 \n",
    "1 1                                 \n",
    "                                      \n",
    "#### 範例一：正確輸出                             \n",
    "10                                    \n",
    "                                      \n",
    "#### 範例二(第 2 、 4 子題)：輸入                 \n",
    "3                                     \n",
    "3 4 5                                 \n",
    "1 2 3                                \n",
    "                                      \n",
    "#### 範例二：正確輸出                             \n",
    "19                                    \n",
    " \n",
    "### 評分說明：\n",
    "&emsp;&emsp;輸入包含若干筆測試資料，每一筆測試資料的執行時間限制(time limit)均為 1秒，依正確通過測資筆數給分。其中：<br>\n",
    "&emsp;&emsp;第 1 子題組 10 分，N = 2，且取用次數f(1)=f(2)= 1 。<br>\n",
    "&emsp;&emsp;第 2 子題組 20 分，N = 3。<br>\n",
    "&emsp;&emsp;第 3 子題組 45 分，N ≤ 1,000，且每一個物品i的取用次數f(i)=1。<br>\n",
    "&emsp;&emsp;第 4 子題組 25 分，N ≤ 100,000。<br>\n",
    "\n",
    "\n"
   ]
  },
  {
   "cell_type": "code",
   "execution_count": 4,
   "metadata": {},
   "outputs": [
    {
     "name": "stdout",
     "output_type": "stream",
     "text": [
      "3\n",
      "3 4 5\n",
      "1 2 3\n",
      "19\n"
     ]
    }
   ],
   "source": [
    "import itertools      # 不知道考試可不可以使用 \n",
    "n=int(input())\n",
    "N=1\n",
    "for i in range(1,n+1):\n",
    "    N=N*i          # N代表有n階乘方法數\n",
    "W=list(itertools.permutations(list(map(int,input().split())),n))\n",
    "F=list(itertools.permutations(list(map(int,input().split())),n))\n",
    "                   # 使用排列，將每一個序列上的元素，排出n階乘的方法\n",
    "M=[]   #回收 N 次的結果，取最佳化的答案\n",
    "for z in range(N):  #選定 其中一種對應做討論\n",
    "    Wnew=W[z]\n",
    "    Fnew=F[z]   \n",
    "    for i in range(n):\n",
    "        a=0\n",
    "        p=0\n",
    "        c=0\n",
    "        d=0\n",
    "        L=[]\n",
    "        tem=[]\n",
    "        for j in range(n-1):\n",
    "            p=p+1\n",
    "            b=0\n",
    "            for k in range(p):\n",
    "                b=b+Wnew[k]\n",
    "            tem.append(b)    # tem 儲存 前n次的重量總和\n",
    "        for t in range(n-1):\n",
    "            c=Fnew[t+1]*tem[t]\n",
    "            L.append(c)      # 每個物品提取次數*消耗量=1個物品的耗能\n",
    "        for i in L:\n",
    "            d=d+i            # 所有物品的總耗能\n",
    "    M.append(d)\n",
    "print(min(M))  #呈現所有情況裡，最低耗能量\n"
   ]
  },
  {
   "cell_type": "code",
   "execution_count": null,
   "metadata": {},
   "outputs": [],
   "source": []
  },
  {
   "cell_type": "code",
   "execution_count": null,
   "metadata": {},
   "outputs": [],
   "source": []
  },
  {
   "cell_type": "code",
   "execution_count": null,
   "metadata": {},
   "outputs": [],
   "source": []
  }
 ],
 "metadata": {
  "kernelspec": {
   "display_name": "Python 3",
   "language": "python",
   "name": "python3"
  },
  "language_info": {
   "codemirror_mode": {
    "name": "ipython",
    "version": 3
   },
   "file_extension": ".py",
   "mimetype": "text/x-python",
   "name": "python",
   "nbconvert_exporter": "python",
   "pygments_lexer": "ipython3",
   "version": "3.7.3"
  }
 },
 "nbformat": 4,
 "nbformat_minor": 2
}
