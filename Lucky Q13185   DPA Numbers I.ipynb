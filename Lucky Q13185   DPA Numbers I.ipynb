{
 "cells": [
  {
   "cell_type": "markdown",
   "metadata": {},
   "source": [
    "# &emsp;&emsp;&emsp;&emsp;&emsp;&emsp;Q13185 DPA Numbers I\n",
    "一個整數b如果可以被另一個整數a整除（在這裡a>b），我們稱b是a的一個因數。\n",
    "\n",
    "Perfect Number是一個正整數並且等於其所有因數（不包含它自己）的和。\n",
    "\n",
    "&emsp;&emsp;例如：6 和 28 都是 perfect number。因為 6=1+2+3，28=1+2+4+7+14。\n",
    "\n",
    "如果一個正整數不是perfect，那他就是deficient或者是 abundant，根據其所有因數的和是小於或大於<br>\n",
    "這個數本身。因此，9是deficient因為1+3<9。而12是abundant因 為1+2 +3+4+6>12。\n",
    "\n",
    "請寫一個程式求出某一個數是perfect, deficient 或者abundant。\n",
    "\n",
    "### Input\n",
    "\n",
    "輸入的第一列有一個正整數t代表以下有幾筆測資。（ 1 <= t <= 500 ）\n",
    "\n",
    "每筆測資一列，有一個正整數 n（2 <= n <= 1000 ）\n",
    "\n",
    "### Output\n",
    "\n",
    "對每筆測資輸出一列，輸出 n 是 perfect, deficient 或者 abundant。\n",
    "\n",
    "#### Sample Input\t\n",
    "10<br>\n",
    "5<br>\n",
    "6<br>\n",
    "16<br>\n",
    "18<br>\n",
    "21<br>\n",
    "28<br>\n",
    "29<br>\n",
    "30<br>\n",
    "40<br>\n",
    "43\n",
    "\n",
    "#### Sample Output\n",
    "deficient<br>\n",
    "perfect<br>\n",
    "deficient<br>\n",
    "abundant<br>\n",
    "deficient<br>\n",
    "perfect<br>\n",
    "deficient<br>\n",
    "abundant<br>\n",
    "abundant<br>\n",
    "deficient"
   ]
  },
  {
   "cell_type": "code",
   "execution_count": 19,
   "metadata": {},
   "outputs": [
    {
     "name": "stdout",
     "output_type": "stream",
     "text": [
      "10\n",
      "5\n",
      "6\n",
      "16\n",
      "18\n",
      "21\n",
      "28\n",
      "29\n",
      "30\n",
      "40\n",
      "43\n",
      "deficient\n",
      "perfect\n",
      "deficient\n",
      "abundant\n",
      "deficient\n",
      "perfect\n",
      "deficient\n",
      "abundant\n",
      "abundant\n",
      "deficient\n"
     ]
    }
   ],
   "source": [
    "def g(x):    \n",
    "    A=[]\n",
    "    for i in range(1,x):\n",
    "        if x%i==0:\n",
    "            A.append(i)\n",
    "    return sum(A)  \n",
    "n=int(input())\n",
    "Sam=[]\n",
    "for i in range(n):\n",
    "    Sam.append(int(input()))\n",
    "for i in range(n):\n",
    "    if (Sam[i])>g((Sam[i])):\n",
    "        print(\"deficient\")\n",
    "    elif (Sam[i])==g((Sam[i])):\n",
    "        print(\"perfect\")\n",
    "    else:\n",
    "        print(\"abundant\")\n",
    "    "
   ]
  },
  {
   "cell_type": "code",
   "execution_count": null,
   "metadata": {},
   "outputs": [],
   "source": []
  }
 ],
 "metadata": {
  "kernelspec": {
   "display_name": "Python 3",
   "language": "python",
   "name": "python3"
  },
  "language_info": {
   "codemirror_mode": {
    "name": "ipython",
    "version": 3
   },
   "file_extension": ".py",
   "mimetype": "text/x-python",
   "name": "python",
   "nbconvert_exporter": "python",
   "pygments_lexer": "ipython3",
   "version": "3.7.3"
  }
 },
 "nbformat": 4,
 "nbformat_minor": 2
}
