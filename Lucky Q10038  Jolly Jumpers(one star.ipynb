{
 "cells": [
  {
   "cell_type": "markdown",
   "metadata": {},
   "source": [
    "# &emsp;&emsp;&emsp;&emsp;&emsp;&emsp;&emsp;&emsp;&emsp;Q10038: Jolly Jumpers\n",
    "&emsp;&emsp;有n個整數的序列我們稱為jolly jumper，如果相鄰的2個數其差的絕對值恰好為1到n-1。例如：\n",
    "\n",
    "1 4 2 3  就是jolly jumper（n=4）。因為相鄰2數的差的絕對值為3,2,1，就是1到n-1。但是1 4 2 -1 6  不是jolly jumper（n=5）。<br>\n",
    "\n",
    "因為相鄰2數的差的絕對值為3,2,3,7，並非1到n-1。你的任務是寫一個程式來判斷一個整數序列是否為jolly jumper。\n",
    "\n",
    "## Input\n",
    "\n",
    "每組測試資料一列，第一個正整數為 n（n < 3000），代表此整數序列的長度。接下來有n個整數，代表此整數序列。請參考Sample Input。\n",
    "\n",
    "## Output\n",
    "\n",
    "對每一組測試資料，輸出此整數序列是否為jolly jumper。請參考Sample Output。\n",
    "\n",
    "#### Sample Input\n",
    "\n",
    "5 1 4 2 3<br>    \n",
    "5 1 4 2 -1 6\n",
    "\n",
    "#### Sample Output\n",
    "\n",
    "Jolly<br>\n",
    "Not jolly"
   ]
  },
  {
   "cell_type": "code",
   "execution_count": 14,
   "metadata": {},
   "outputs": [
    {
     "name": "stdout",
     "output_type": "stream",
     "text": [
      "5\n",
      "5 1 4 2 3\n",
      "Jolly\n"
     ]
    }
   ],
   "source": [
    "N=int(input())\n",
    "st=input(\"\")\n",
    "line=list(map(int,st.split()))\n",
    "n=len(line)\n",
    "L=[]\n",
    "c=1\n",
    "for i in range(n-1):\n",
    "    a=abs(line[i+1]-line[i])\n",
    "    L.append(a)\n",
    "L.sort()\n",
    "for i in range(n-2):\n",
    "    b=L[i+1]-L[i]\n",
    "    c=c*b\n",
    "if c:\n",
    "    print(\"Jolly\")\n",
    "else:\n",
    "    print(\"Not jolly\")\n",
    "\n",
    "    "
   ]
  },
  {
   "cell_type": "code",
   "execution_count": null,
   "metadata": {},
   "outputs": [],
   "source": []
  }
 ],
 "metadata": {
  "kernelspec": {
   "display_name": "Python 3",
   "language": "python",
   "name": "python3"
  },
  "language_info": {
   "codemirror_mode": {
    "name": "ipython",
    "version": 3
   },
   "file_extension": ".py",
   "mimetype": "text/x-python",
   "name": "python",
   "nbconvert_exporter": "python",
   "pygments_lexer": "ipython3",
   "version": "3.7.3"
  }
 },
 "nbformat": 4,
 "nbformat_minor": 2
}
