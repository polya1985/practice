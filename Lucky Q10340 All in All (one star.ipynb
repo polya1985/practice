{
 "cells": [
  {
   "cell_type": "markdown",
   "metadata": {},
   "source": [
    "# &emsp;&emsp;&emsp;&emsp;&emsp;&emsp;&emsp;&emsp;&emsp;Q10340: All in All\n",
    "&emsp;&emsp;給你2個字串s,t，請你寫一個程式判斷是否s是t的子字串。也就是說當你移走t字串中的某些字元後，剩下的字串就是s。\n",
    "\n",
    "### Input\n",
    "\n",
    "每筆測試資料一列。每列有2個字串，s及t，以空白分隔。\n",
    "\n",
    "### Output\n",
    "\n",
    "對每一列輸入，請輸出是否s是t的子字串。\n",
    "\n",
    "#### Sample Input\n",
    "\n",
    "abc&emsp;abc<br>\n",
    "sequence&emsp;subsequence<br>\n",
    "person&emsp;compression<br>\n",
    "VERDI&emsp;vivaVittorioEmanueleReDiItalia<br>\n",
    "caseDoesMatter&emsp;CaseDoesMatter\n",
    "\n",
    "#### Sample Output\n",
    "\n",
    "Yes<br>\n",
    "Yes<br>\n",
    "No<br>\n",
    "Yes<br>\n",
    "No"
   ]
  },
  {
   "cell_type": "code",
   "execution_count": 3,
   "metadata": {},
   "outputs": [
    {
     "name": "stdout",
     "output_type": "stream",
     "text": [
      "5\n",
      "abc abc\n",
      "sequence subsequence\n",
      "person compression\n",
      "VERDI vivaVittorioEmanueleReDiItalia\n",
      "caseDoesMatter CaseDoesMatter\n",
      "Yes\n",
      "Yes\n",
      "No\n",
      "Yes\n",
      "No\n"
     ]
    }
   ],
   "source": [
    "n=int(input())\n",
    "M=[]\n",
    "for z in range(n):\n",
    "    m=input().split()\n",
    "    M.append(m)\n",
    "for z in range(n):\n",
    "    Ls=list(M[z][0])\n",
    "    Lt=list(M[z][1])\n",
    "    L=[]\n",
    "    t=0\n",
    "    for item in Ls:\n",
    "        c=1\n",
    "        while (t<len(Lt))&c:\n",
    "            if item ==Lt[t]:\n",
    "                L.append(Lt.pop(t))\n",
    "                c=0\n",
    "            else:\n",
    "                t=t+1\n",
    "    if len(L)==len(Ls):\n",
    "        print(\"Yes\")\n",
    "    else:\n",
    "        print(\"No\")\n",
    "\n"
   ]
  },
  {
   "cell_type": "code",
   "execution_count": null,
   "metadata": {},
   "outputs": [],
   "source": []
  },
  {
   "cell_type": "code",
   "execution_count": null,
   "metadata": {},
   "outputs": [],
   "source": []
  }
 ],
 "metadata": {
  "kernelspec": {
   "display_name": "Python 3",
   "language": "python",
   "name": "python3"
  },
  "language_info": {
   "codemirror_mode": {
    "name": "ipython",
    "version": 3
   },
   "file_extension": ".py",
   "mimetype": "text/x-python",
   "name": "python",
   "nbconvert_exporter": "python",
   "pygments_lexer": "ipython3",
   "version": "3.7.3"
  }
 },
 "nbformat": 4,
 "nbformat_minor": 2
}
