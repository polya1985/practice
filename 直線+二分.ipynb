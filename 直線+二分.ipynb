{
 "cells": [
  {
   "cell_type": "code",
   "execution_count": 3,
   "metadata": {},
   "outputs": [
    {
     "name": "stdout",
     "output_type": "stream",
     "text": [
      "[211, 398, 1443, 1511, 1517, 1553, 1844, 2443, 2454, 2461, 2612, 3198, 3448, 3856, 4059, 4231, 4511, 4642, 4901, 5051, 5152, 5220, 5292, 5831, 6126, 6207, 6337, 6620, 6665, 7250, 7344, 7413, 7556, 7671, 7918, 8227, 8320, 8562, 8658, 8777, 8818, 8941, 8948, 9154, 9177, 9390, 9728, 9764, 9858, 9931]\n"
     ]
    }
   ],
   "source": [
    "from random import randint \n",
    "K=[]\n",
    "for i in range(50):  # 隨機選取幾筆資料\n",
    "    K.append(randint(1,10000))   # 資料範圍1~10000\n",
    "n=len(K)  \n",
    "LL=[]\n",
    "LL.append(K[0])\n",
    "for j in range(1,n):\n",
    "    high=len(LL)-1\n",
    "    low=0\n",
    "    while True:\n",
    "        if K[j]>=LL[high]:\n",
    "            LL.insert(high+1,K[j])\n",
    "            break\n",
    "        elif K[j]<=LL[low]:\n",
    "            LL.insert(low,K[j])\n",
    "            break\n",
    "        else:\n",
    "            mid=int((high+low)/2)\n",
    "            if K[j]==LL[mid]:\n",
    "                LL.insert(mid,K[j])\n",
    "                break\n",
    "            elif K[j]>LL[mid]:\n",
    "                low=mid+1\n",
    "            else:\n",
    "                high=mid-1\n",
    "print(LL)"
   ]
  },
  {
   "cell_type": "code",
   "execution_count": null,
   "metadata": {},
   "outputs": [],
   "source": []
  }
 ],
 "metadata": {
  "kernelspec": {
   "display_name": "Python 3",
   "language": "python",
   "name": "python3"
  },
  "language_info": {
   "codemirror_mode": {
    "name": "ipython",
    "version": 3
   },
   "file_extension": ".py",
   "mimetype": "text/x-python",
   "name": "python",
   "nbconvert_exporter": "python",
   "pygments_lexer": "ipython3",
   "version": "3.7.3"
  }
 },
 "nbformat": 4,
 "nbformat_minor": 2
}
